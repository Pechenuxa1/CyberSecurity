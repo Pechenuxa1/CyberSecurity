{
 "cells": [
  {
   "cell_type": "code",
   "execution_count": 1,
   "id": "77151446-520d-4e91-8aa4-65b8e814f378",
   "metadata": {},
   "outputs": [
    {
     "name": "stdout",
     "output_type": "stream",
     "text": [
      "Requirement already satisfied: pycryptodome in c:\\users\\vtatt\\anaconda3\\lib\\site-packages (3.19.0)\n"
     ]
    }
   ],
   "source": [
    "!pip install pycryptodome"
   ]
  },
  {
   "cell_type": "code",
   "execution_count": 46,
   "id": "9d7e6110-35d1-4fec-8053-28801062715b",
   "metadata": {},
   "outputs": [
    {
     "name": "stdout",
     "output_type": "stream",
     "text": [
      "Collecting rsa\n",
      "  Downloading rsa-4.9-py3-none-any.whl (34 kB)\n",
      "Requirement already satisfied: pyasn1>=0.1.3 in c:\\users\\vtatt\\anaconda3\\lib\\site-packages (from rsa) (0.4.8)\n",
      "Installing collected packages: rsa\n",
      "Successfully installed rsa-4.9\n"
     ]
    }
   ],
   "source": [
    "!pip install rsa"
   ]
  },
  {
   "cell_type": "code",
   "execution_count": 5,
   "id": "716419d5-a834-403b-93e9-0bd92d43ec84",
   "metadata": {},
   "outputs": [],
   "source": [
    "from Crypto.Util import number\n",
    "import math"
   ]
  },
  {
   "cell_type": "code",
   "execution_count": 195,
   "id": "5edfdae7-286b-4c23-96e5-360e4674bf2f",
   "metadata": {},
   "outputs": [
    {
     "name": "stdout",
     "output_type": "stream",
     "text": [
      "Исходное сообщение: b'H'\n",
      "Зашифрованное сообщение: b'G\\xcaJ\\xc8\\x99[\\x9a;\\x88]\\x83\\xc2\\x90\\x80T\\x9d\\xd9\\x1c\\x9a\\xeew\\x17\\x88\\x9c\\xf1\\xfd5\\xfb[\\xc5\\xf0\\xf1\\xc0/j\\xba3[@\\x87\\xee\\xb7\\x8a\\xb6\\xbb\\x9f\\xd6\\x0cE\\xf5\\xe9\\x17Xr\\x98u\\x06\\xdc\\xe9G\\xff\\xe9\\xe1q\\xc3\\x92\\xfa\\xf2\\xb3\\xf7I\\x90\\xdf@\\x1e\\xd8\\xaf\\xc7j\\xb0X\\xf8Q\\x08k\\x8cdD/\\x0f.\\xe4\\xa22h\\x8e \\xeed)\\xbf\\x8dm\\xcd5\\x99w\\x8aTO\\xdf \\x8b\\x08(\\x84M&\\xb1z\\xfc}\\xd9h\\xfcm\\xb7\\xf6W\\x88)\\xd2\\x98\\n\\x86\\x1b\\x04j \\xd60\\x95\\xe33AY\\xf0\\xc7\\xa98\\xb2^DbhuF\\x96\\xc1\\xd8\\xf4\\xff\\x16*\\x0f\\xeb\\xed\\xd9j\\x1d\\xdb^(f\\xf6g\\x0c\\x87gG\\x88\\xf0I\\x1b\\x18\\x0f\\x13p\\xec\\xb0\\xe3\\xae\\xeb\\x1c\\x8a\\x91\\x167\\xc0/\\xae7\\xce-\\xfc9\\n!MD]\\xaaj\\x16\\x92\\x96\\xbeg`\\\\\\xf5\\xa3s\\xc9S]l\\x13\\x18\\x8fn\\x1e\\xf8\\xd7V\\n<\\x8ba\\xe7\\xc2\\xd3K\\xd0\\xe7U\\xbb]\\xb5\\x1d\\x16e\\x87\\x9f\\xe2'\n",
      "Выходное сообщение: b'H'\n",
      "Мой RSA: 3.9699416160583496 seconds\n"
     ]
    }
   ],
   "source": [
    "import time\n",
    "import random\n",
    "\n",
    "start_time = time.time()\n",
    "\n",
    "def is_prime_miller_rabin(n, k=5):\n",
    "    if n <= 1:\n",
    "        return False\n",
    "    if n == 2 or n == 3:\n",
    "        return True\n",
    "    if n % 2 == 0:\n",
    "        return False\n",
    "    \n",
    "    s, d = 0, n - 1\n",
    "    while d % 2 == 0:\n",
    "        s += 1\n",
    "        d //= 2\n",
    "\n",
    "    for _ in range(k):\n",
    "        a = random.randint(2, n - 2)\n",
    "        x = pow(a, d, n)\n",
    "\n",
    "        if x == 1 or x == n - 1:\n",
    "            continue\n",
    "\n",
    "        for _ in range(s - 1):\n",
    "            x = pow(x, 2, n)\n",
    "            if x == n - 1:\n",
    "                break\n",
    "        else:\n",
    "            return False\n",
    "\n",
    "    return True\n",
    "\n",
    "\n",
    "def get_prime(bits):\n",
    "    while True:\n",
    "        candidate = random.getrandbits(bits) | 1\n",
    "        if is_prime_miller_rabin(candidate):\n",
    "            return candidate\n",
    "\n",
    "p = get_prime(1024)\n",
    "q = get_prime(1024)\n",
    "\n",
    "while p == q or abs(p - q) == 2:\n",
    "    q = get_prime(1024)\n",
    "           \n",
    "n = p * q\n",
    "\n",
    "phi_n = (p - 1) * (q - 1)\n",
    "\n",
    "e = 65537\n",
    "while math.gcd(e, phi_n) != 1:\n",
    "    e += 2\n",
    "    if e == phi_n:\n",
    "        raise Exception(\"e is equal phi_n\")\n",
    "\n",
    "d = pow(e,-1,phi_n)\n",
    "\n",
    "public_key = (e, n)\n",
    "private_key = (d, n)\n",
    "\n",
    "\n",
    "file = open(\"./rsa_small_text.txt\", 'rb')\n",
    "message = file.read()\n",
    "print(f\"Исходное сообщение: {message}\")\n",
    "\n",
    "s_message = [pow(m, e, n) for m in message]\n",
    "print(f\"Зашифрованное сообщение: {bytes().join([s.to_bytes((s.bit_length() + 7) // 8, 'little') for s in s_message])}\")\n",
    "\n",
    "message_from_s = [pow(s, d, n) for s in s_message]\n",
    "print(f\"Выходное сообщение: {bytes().join([s.to_bytes((s.bit_length() + 7) // 8, 'little') for s in message_from_s])}\")\n",
    "\n",
    "print(f\"Мой RSA: {time.time() - start_time} seconds\")\n"
   ]
  },
  {
   "cell_type": "code",
   "execution_count": 197,
   "id": "5ce31f53-e2bd-4ad0-91af-4a883ce3281b",
   "metadata": {},
   "outputs": [
    {
     "name": "stdout",
     "output_type": "stream",
     "text": [
      "Исходное сообщение: b'H'\n",
      "Зашифрованное сообщение: b'\\xa6\\t\\x1ct\\xc4\\xf1\\xafi#\\xdb\\x84\\xe0\\xa1\\x92\\xda\\xb4\\xf9\\xc8u\\xfd\\xf1\\xdd\\xa6\\xed\\x9b`\\xad\\x1fo\\xd6}y\\xaf\\xcf0\\xbf\\x10\\xc3\\xe68\\xc8@n\\xc9\\x1a\\x1a\\xfe\\x1e\\xb7\\x9d\\x96>\\x08P\\xd6G\\x13\\xf7\\xf7Yv`\\xb2B\\x12\\x06~\\xc3\\x1aTb\\xbd\\x90\\xc4\\xcc\\xb1\\xabh:\\xa3\\xddD\\xf3\\x08V\\xda\\\\\\x92\\x1f\\x88\\xc8\\xde\\x06 \\xa9\\x1f3\\x89\\x14g\\x7f\\x85\\xbf\\xf6\\xa4\\x0eL\\xa9\\xcd\\xbc\\x06\\xef]]\\x15E\\x85=g22\\x8a5\\x168K\\xc0a'\n",
      "Выходное сообщение: b'H'\n",
      "RSA: 0.9050173759460449 seconds\n"
     ]
    }
   ],
   "source": [
    "import rsa\n",
    "\n",
    "start_time = time.time()\n",
    "\n",
    "public_key, private_key = rsa.newkeys(1024)\n",
    "file = open(\"./rsa_small_text.txt\", 'rb')\n",
    "message = file.read()\n",
    "print(f\"Исходное сообщение: {message}\")\n",
    "\n",
    "ciphertext = rsa.encrypt(message, public_key)\n",
    "print(f\"Зашифрованное сообщение: {ciphertext}\")\n",
    "\n",
    "decrypted_message = rsa.decrypt(ciphertext, private_key)\n",
    "print(f\"Выходное сообщение: {decrypted_message}\")\n",
    "\n",
    "print(f\"RSA: {time.time() - start_time} seconds\")"
   ]
  },
  {
   "cell_type": "code",
   "execution_count": 190,
   "id": "7b95add8-699f-4d91-b6c6-c645e931165f",
   "metadata": {},
   "outputs": [
    {
     "name": "stdout",
     "output_type": "stream",
     "text": [
      "Подпись подтверждена\n"
     ]
    }
   ],
   "source": [
    "import hashlib\n",
    "\n",
    "\n",
    "def encrypt(hash_message, d, n):\n",
    "    return [pow(m, d, n) for m in hash_message]\n",
    "\n",
    "def sign(message, private_key):\n",
    "    sha256 = hashlib.sha256()\n",
    "    sha256.update(message)\n",
    "    hash_message = sha256.digest()\n",
    "\n",
    "    d = private_key[0]\n",
    "    n = private_key[1]\n",
    "    s_message = encrypt(hash_message, d, n)\n",
    "    return hash_message, s_message\n",
    "\n",
    "def decrypt(s_message, e, n):\n",
    "    message_from_s = [pow(s, e, n) for s in s_message]\n",
    "    return bytes().join([s.to_bytes((s.bit_length() + 7) // 8, 'little') for s in message_from_s])\n",
    "\n",
    "def verify(hash_message, s_message, public_key):\n",
    "    e = public_key[0]\n",
    "    n = public_key[1]\n",
    "    message_from_s = decrypt(s_message, e, n)\n",
    "    if message_from_s == hash_message:\n",
    "        return True\n",
    "    else:\n",
    "        return False\n",
    "\n",
    "public_key = (e, n)\n",
    "private_key = (d, n)\n",
    "\n",
    "file = open(\"./big.txt\", 'rb')\n",
    "message = file.read()\n",
    "\n",
    "hash_message, s_message = sign(message, private_key)\n",
    "\n",
    "auth = verify(hash_message, s_message, public_key)\n",
    "\n",
    "if auth == True:\n",
    "    print(\"Подпись подтверждена\")"
   ]
  },
  {
   "cell_type": "code",
   "execution_count": null,
   "id": "4722c457-c26b-4342-97a5-610dd3b87f2c",
   "metadata": {},
   "outputs": [],
   "source": []
  }
 ],
 "metadata": {
  "kernelspec": {
   "display_name": "Python 3 (ipykernel)",
   "language": "python",
   "name": "python3"
  },
  "language_info": {
   "codemirror_mode": {
    "name": "ipython",
    "version": 3
   },
   "file_extension": ".py",
   "mimetype": "text/x-python",
   "name": "python",
   "nbconvert_exporter": "python",
   "pygments_lexer": "ipython3",
   "version": "3.11.5"
  }
 },
 "nbformat": 4,
 "nbformat_minor": 5
}
